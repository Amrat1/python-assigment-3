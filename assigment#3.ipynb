{
 "cells": [
  {
   "cell_type": "code",
   "execution_count": 25,
   "id": "e246855c",
   "metadata": {},
   "outputs": [
    {
     "name": "stdout",
     "output_type": "stream",
     "text": [
      "Twinkle,twinkle,little star, \n",
      "        How I Wonder what you are! \n",
      "                Up above the world so high,\n",
      "                Like a diamond in the sky.\n",
      " Twinkle,twinkle little star,\n",
      "         How I wonder waht you are\n"
     ]
    }
   ],
   "source": [
    "print(\"Twinkle,twinkle,little star, \\n        How I Wonder what you are! \\n                Up above the world so high,\\n                Like a diamond in the sky.\\n Twinkle,twinkle little star,\\n         How I wonder waht you are\" );"
   ]
  },
  {
   "cell_type": "code",
   "execution_count": 29,
   "id": "391eafe7",
   "metadata": {},
   "outputs": [
    {
     "name": "stdout",
     "output_type": "stream",
     "text": [
      "3.8.8\n"
     ]
    }
   ],
   "source": [
    "from platform import python_version\n",
    "print(python_version())"
   ]
  },
  {
   "cell_type": "code",
   "execution_count": 63,
   "id": "0f24b9c7",
   "metadata": {},
   "outputs": [
    {
     "name": "stdout",
     "output_type": "stream",
     "text": [
      "About today's Date:= 25/10/2021\n",
      " and Time:= 02:01:55\n"
     ]
    }
   ],
   "source": [
    "from datetime import datetime\n",
    "dt_tm = now.strftime(\"%d/%m/%Y\\n and Time:= %H:%M:%S\")\n",
    "print(\"About today's Date:=\", dt_tm)\t\n"
   ]
  },
  {
   "cell_type": "code",
   "execution_count": 74,
   "id": "997b8812",
   "metadata": {},
   "outputs": [
    {
     "name": "stdout",
     "output_type": "stream",
     "text": [
      "Enter radius of the circle : 221\n",
      "The area of the circle with radius =221.0 is=: 153438.52679397908\n"
     ]
    }
   ],
   "source": [
    "from math import pi\n",
    "radius = float(input (\"Enter radius of the circle : \"))\n",
    "print (\"The area of the circle with radius:\" + str(radius) + \" is: \" + str(pi * radius**2))\n"
   ]
  },
  {
   "cell_type": "code",
   "execution_count": 77,
   "id": "97c755b6",
   "metadata": {},
   "outputs": [
    {
     "name": "stdout",
     "output_type": "stream",
     "text": [
      "['first_name', 'last_name']\n"
     ]
    }
   ],
   "source": [
    "arr=['first_name', 'last_name']\n",
    "arr2=arr[0:2]\n",
    "print(arr2)"
   ]
  },
  {
   "cell_type": "code",
   "execution_count": 81,
   "id": "bfd1b81d",
   "metadata": {},
   "outputs": [
    {
     "name": "stdout",
     "output_type": "stream",
     "text": [
      "Hey your Swag Amrat\n"
     ]
    }
   ],
   "source": [
    " firstName=\"Amrat\"\n",
    " lastName=\"Swag\"\n",
    "print(\"Hey your \"+str(lastName)+ \" \" + str(firstName) )"
   ]
  },
  {
   "cell_type": "code",
   "execution_count": 88,
   "id": "1ed69c6e",
   "metadata": {},
   "outputs": [
    {
     "name": "stdout",
     "output_type": "stream",
     "text": [
      "enter num1=3\n",
      "enter num2=2\n",
      "Two number addition is:5\n"
     ]
    }
   ],
   "source": [
    "a=int(input(\"enter num1=\"))\n",
    "b=int(input(\"enter num2=\"))\n",
    "print(\"Two number addition is: \"+str (a+b))"
   ]
  },
  {
   "cell_type": "code",
   "execution_count": 1,
   "id": "23f12020",
   "metadata": {},
   "outputs": [
    {
     "ename": "IndentationError",
     "evalue": "unexpected indent (<ipython-input-1-badbec3efc9a>, line 6)",
     "output_type": "error",
     "traceback": [
      "\u001b[1;36m  File \u001b[1;32m\"<ipython-input-1-badbec3efc9a>\"\u001b[1;36m, line \u001b[1;32m6\u001b[0m\n\u001b[1;33m    per = (MATH+ENG+IC+DS+HRM)/500*100;\u001b[0m\n\u001b[1;37m    ^\u001b[0m\n\u001b[1;31mIndentationError\u001b[0m\u001b[1;31m:\u001b[0m unexpected indent\n"
     ]
    }
   ],
   "source": [
    "         MATH=float(input(\"enter your math marks\"));\n",
    "         ENG=float(input(\"enter you eng marks\"));\n",
    "         IC=float(input(\"enter your IC marks\"));\n",
    "         DS=float(input(\"enter you DS marks\"));\n",
    "         HRM=float(input(\"enter your HRM marks\"));\n",
    "                 per = (MATH+ENG+IC+DS+HRM)/500*100;\n",
    "                 if per<100 and per >=90:\n",
    "                 print(\"Your Grade A+\");\n",
    "                 elif per<90 and per >=80:\n",
    "                 print(\"Your Grade A\");\n",
    "                   elif per<80 and per >=70:\n",
    "                 print(\"Your Grade B\");\n",
    "                   elif per<70 and per >=60:\n",
    "                 print(\"Your Grade C\");\n",
    "                   elif per<60 and per >=50:\n",
    "                 print(\"Your Grade D\");\n",
    "                   elif per<50 and per >=40:\n",
    "                 print(\"Your Grade E\");\n",
    "                   elif(per < 0 and per >100):\n",
    "                 print(\"You didnot write correct total\");\n",
    "                    else:\n",
    "                        print(\"FAIL\");"
   ]
  },
  {
   "cell_type": "code",
   "execution_count": 7,
   "id": "e1f241c0",
   "metadata": {},
   "outputs": [
    {
     "name": "stdout",
     "output_type": "stream",
     "text": [
      "Enter a NO: 2\n",
      "  Even number\n"
     ]
    }
   ],
   "source": [
    "no = int(input(\"Enter a NO: \"))  \n",
    "if (num % 2) == 0:  \n",
    "   print(\"{0}  Even number\".format(no))  \n",
    "else:  \n",
    "   print(\"{0}  Odd number\".format(no))  "
   ]
  },
  {
   "cell_type": "code",
   "execution_count": 10,
   "id": "66cbe5e2",
   "metadata": {},
   "outputs": [
    {
     "name": "stdout",
     "output_type": "stream",
     "text": [
      "The length of list is:  4\n"
     ]
    }
   ],
   "source": [
    "listName=['amrat',\"farooque\",\"shahdev\",\"awais joyo\"]\n",
    "print(\"The length of list is: \",len(listName))"
   ]
  },
  {
   "cell_type": "code",
   "execution_count": 11,
   "id": "1fc4a3f8",
   "metadata": {},
   "outputs": [
    {
     "name": "stdout",
     "output_type": "stream",
     "text": [
      "Sum of list is:  44\n"
     ]
    }
   ],
   "source": [
    "listNumber=[2,3,4,5,6,7,8,9]\n",
    "print(\"Sum of list is: \",sum(listNumber))"
   ]
  },
  {
   "cell_type": "code",
   "execution_count": 13,
   "id": "367aa0fd",
   "metadata": {},
   "outputs": [
    {
     "name": "stdout",
     "output_type": "stream",
     "text": [
      "Sum of list is:  32\n"
     ]
    }
   ],
   "source": [
    "listNumber=[2,3,4,5,6,7,32,9]\n",
    "print(\"Sum of list is: \",max(listNumber))"
   ]
  },
  {
   "cell_type": "code",
   "execution_count": 33,
   "id": "009139af",
   "metadata": {},
   "outputs": [
    {
     "name": "stdout",
     "output_type": "stream",
     "text": [
      "These Number are less then five [1, 1, 2, 3]\n"
     ]
    }
   ],
   "source": [
    "#Write this in one line of Python. \n",
    "a = [1, 1, 2, 3, 5, 8, 13, 21, 34, 55, 89]\n",
    "b = []\n",
    "[b.append(i) for i in a if i < 5]\n",
    "print(\"These Number are less then five\",b)"
   ]
  },
  {
   "cell_type": "code",
   "execution_count": null,
   "id": "ed37f8bc",
   "metadata": {},
   "outputs": [],
   "source": []
  }
 ],
 "metadata": {
  "kernelspec": {
   "display_name": "Python 3",
   "language": "python",
   "name": "python3"
  },
  "language_info": {
   "codemirror_mode": {
    "name": "ipython",
    "version": 3
   },
   "file_extension": ".py",
   "mimetype": "text/x-python",
   "name": "python",
   "nbconvert_exporter": "python",
   "pygments_lexer": "ipython3",
   "version": "3.8.8"
  }
 },
 "nbformat": 4,
 "nbformat_minor": 5
}
